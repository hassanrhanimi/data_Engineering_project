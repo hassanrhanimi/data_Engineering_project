{
 "cells": [
  {
   "cell_type": "markdown",
   "metadata": {},
   "source": [
    "<center><h1>Data engineering project</h1></center>"
   ]
  },
  {
   "cell_type": "markdown",
   "metadata": {},
   "source": [
    "# Part 2 - Extract API Data"
   ]
  },
  {
   "cell_type": "markdown",
   "metadata": {},
   "source": [
    "In this part, we'll:\n",
    "*   Collect exchange rate data using an API\n",
    "*   Store the data as a CSV"
   ]
  },
  {
   "cell_type": "markdown",
   "metadata": {},
   "source": [
    "## Imports"
   ]
  },
  {
   "cell_type": "markdown",
   "metadata": {},
   "source": [
    "The cell below will install the mentioned libraries when activated and executed."
   ]
  },
  {
   "cell_type": "code",
   "execution_count": 20,
   "metadata": {},
   "outputs": [],
   "source": [
    "#!pip install pandas\n",
    "#!pip install requests"
   ]
  },
  {
   "cell_type": "code",
   "execution_count": 1,
   "metadata": {},
   "outputs": [],
   "source": [
    "import requests\n",
    "import pandas as pd\n",
    "import json"
   ]
  },
  {
   "cell_type": "markdown",
   "metadata": {},
   "source": [
    "## Extract Data Using an API"
   ]
  },
  {
   "cell_type": "markdown",
   "metadata": {},
   "source": [
    "Using ExchangeRate-API, I will extract currency exchange rate data. Use the below steps to get the access key and to get the data.\n",
    "\n",
    "1.  Open the url : [https://exchangeratesapi.io/](https://exchangeratesapi.io/?utm_medium=Exinfluencer&utm_source=Exinfluencer&utm_content=000026UJ&utm_term=10006555&utm_id=NA-SkillsNetwork-Channel-SkillsNetworkCoursesIBMDeveloperSkillsNetworkPY0221ENSkillsNetwork23455645-2021-01-01) and create a free account.\n",
    "2.  Once the account is created. You will get the Get the Free API key option on the top.\n",
    "\n",
    "3.  Copy the API key and use it in the url bellow.\n"
   ]
  },
  {
   "cell_type": "markdown",
   "metadata": {},
   "source": [
    "### Call the API\n",
    "\n",
    "Using the `requests` library, we call the endpoint given above and save the text."
   ]
  },
  {
   "cell_type": "code",
   "execution_count": null,
   "metadata": {},
   "outputs": [],
   "source": [
    "with open('ExchangeRateAPI.json') as f:\n",
    "    keys=json.load(f)\n",
    "access_key=keys['API_access_key']"
   ]
  },
  {
   "cell_type": "code",
   "execution_count": 22,
   "metadata": {},
   "outputs": [
    {
     "data": {
      "text/plain": [
       "'{\"success\":true,\"timestamp\":1634738464,\"base\":\"EUR\",\"date\":\"2021-10-20\",\"rates\":{\"AED\":4.276999,\"AFN\":104.392984,\"ALL\":121.7429,\"AMD\":556.10998,\"ANG\":2.098511,\"AOA\":695.330394,\"ARS\":115.673788,\"AUD\":1.553621,\"AWG\":2.096592,\"AZN\":1.984656,\"BAM\":1.95752,\"BBD\":2.351029,\"BDT\":99.642201,\"BGN\":1.956585,\"BHD\":0.438969,\"BIF\":2327.735628,\"BMD\":1.16445,\"BND\":1.564851,\"BOB\":8.028429,\"BRL\":6.482145,\"BSD\":1.164405,\"BTC\":1.7680412e-5,\"BTN\":87.155724,\"BWP\":12.973698,\"BYN\":2.841653,\"BYR\":22823.220764,\"BZD\":2.347026,\"CAD\":1.438084,\"CDF\":2345.202022,\"CHF\":1.072278,\"CLF\":0.034229,\"CLP\":944.426788,\"CNY\":7.443982,\"COP\":4389.161532,\"CRC\":731.681516,\"CUC\":1.16445,\"CUP\":30.857926,\"CVE\":110.622838,\"CZK\":25.543431,\"DJF\":207.288911,\"DKK\":7.440067,\"DOP\":65.677251,\"DZD\":159.772262,\"EGP\":18.293393,\"ERN\":17.468193,\"ETB\":54.449617,\"EUR\":1,\"FJD\":2.434847,\"FKP\":0.8538,\"GBP\":0.844849,\"GEL\":3.6441,\"GGP\":0.8538,\"GHS\":7.070703,\"GIP\":0.8538,\"GMD\":60.551305,\"GNF\":11266.054262,\"GTQ\":9.009476,\"GYD\":243.732459,\"HKD\":9.05382,\"HNL\":28.173901,\"HRK\":7.508493,\"HTG\":115.855996,\"HUF\":362.079933,\"IDR\":16444.712785,\"ILS\":3.740121,\"IMP\":0.8538,\"INR\":87.072932,\"IQD\":1700.097057,\"IRR\":49133.969865,\"ISK\":149.992799,\"JEP\":0.8538,\"JMD\":175.845773,\"JOD\":0.825567,\"JPY\":133.041876,\"KES\":129.195609,\"KGS\":98.73779,\"KHR\":4747.463018,\"KMF\":492.416816,\"KPW\":1048.004686,\"KRW\":1366.936054,\"KWD\":0.35114,\"KYD\":0.970338,\"KZT\":496.672945,\"LAK\":11797.04325,\"LBP\":1781.608205,\"LKR\":233.459199,\"LRD\":188.350311,\"LSL\":16.965965,\"LTL\":3.438318,\"LVL\":0.704364,\"LYD\":5.304069,\"MAD\":10.523113,\"MDL\":20.244573,\"MGA\":4605.400167,\"MKD\":61.668226,\"MMK\":2189.045169,\"MNT\":3319.759083,\"MOP\":9.325229,\"MRO\":415.708464,\"MUR\":49.585613,\"MVR\":17.990763,\"MWK\":953.113781,\"MXN\":23.520435,\"MYR\":4.857503,\"MZN\":74.32661,\"NAD\":16.966269,\"NGN\":478.379739,\"NIO\":40.964831,\"NOK\":9.763716,\"NPR\":139.449359,\"NZD\":1.62092,\"OMR\":0.448308,\"PAB\":1.164405,\"PEN\":4.599114,\"PGK\":4.11691,\"PHP\":59.077237,\"PKR\":200.874651,\"PLN\":4.596198,\"PYG\":8052.41921,\"QAR\":4.239776,\"RON\":4.945538,\"RSD\":117.661554,\"RUB\":82.686447,\"RWF\":1164.450039,\"SAR\":4.367607,\"SBD\":9.371906,\"SCR\":17.029147,\"SDG\":511.783145,\"SEK\":10.018334,\"SGD\":1.56473,\"SHP\":1.60391,\"SLL\":12360.637192,\"SOS\":680.03876,\"SRD\":24.900614,\"STD\":24101.764792,\"SVC\":10.188794,\"SYP\":1463.681122,\"SZL\":16.965807,\"THB\":38.85813,\"TJS\":13.143157,\"TMT\":4.081397,\"TND\":3.280833,\"TOP\":2.608892,\"TRY\":10.770807,\"TTD\":7.905924,\"TWD\":32.445653,\"TZS\":2686.386263,\"UAH\":30.497022,\"UGX\":4198.723926,\"USD\":1.16445,\"UYU\":50.977437,\"UZS\":12459.615614,\"VEF\":248994610736.6635,\"VND\":26492.201549,\"VUV\":130.763586,\"WST\":3.00078,\"XAF\":656.52929,\"XAG\":0.048393,\"XAU\":0.000654,\"XCD\":3.146985,\"XDR\":0.822317,\"XOF\":657.91452,\"XPF\":119.938332,\"YER\":291.403796,\"ZAR\":16.819142,\"ZMK\":10481.448085,\"ZMW\":19.89347,\"ZWL\":374.952437}}'"
      ]
     },
     "execution_count": 22,
     "metadata": {},
     "output_type": "execute_result"
    }
   ],
   "source": [
    "url = \"http://api.exchangeratesapi.io/v1/latest?base=EUR&access_key=\" + access_key\n",
    "r=requests.get(url).text\n",
    "r"
   ]
  },
  {
   "cell_type": "code",
   "execution_count": 44,
   "metadata": {},
   "outputs": [],
   "source": [
    "import json\n",
    "data = json.loads(r)"
   ]
  },
  {
   "cell_type": "markdown",
   "metadata": {},
   "source": [
    "### Save as DataFrame\n",
    "\n",
    "The gathered data will be saved as a `pandas` dataframe with the Currency and `Rate` as their columns."
   ]
  },
  {
   "cell_type": "code",
   "execution_count": 56,
   "metadata": {},
   "outputs": [
    {
     "data": {
      "text/html": [
       "<div>\n",
       "<style scoped>\n",
       "    .dataframe tbody tr th:only-of-type {\n",
       "        vertical-align: middle;\n",
       "    }\n",
       "\n",
       "    .dataframe tbody tr th {\n",
       "        vertical-align: top;\n",
       "    }\n",
       "\n",
       "    .dataframe thead th {\n",
       "        text-align: right;\n",
       "    }\n",
       "</style>\n",
       "<table border=\"1\" class=\"dataframe\">\n",
       "  <thead>\n",
       "    <tr style=\"text-align: right;\">\n",
       "      <th></th>\n",
       "      <th>success</th>\n",
       "      <th>timestamp</th>\n",
       "      <th>base</th>\n",
       "      <th>date</th>\n",
       "      <th>rates</th>\n",
       "    </tr>\n",
       "  </thead>\n",
       "  <tbody>\n",
       "    <tr>\n",
       "      <th>AED</th>\n",
       "      <td>True</td>\n",
       "      <td>1634738464</td>\n",
       "      <td>EUR</td>\n",
       "      <td>2021-10-20</td>\n",
       "      <td>4.276999</td>\n",
       "    </tr>\n",
       "    <tr>\n",
       "      <th>AFN</th>\n",
       "      <td>True</td>\n",
       "      <td>1634738464</td>\n",
       "      <td>EUR</td>\n",
       "      <td>2021-10-20</td>\n",
       "      <td>104.392984</td>\n",
       "    </tr>\n",
       "    <tr>\n",
       "      <th>ALL</th>\n",
       "      <td>True</td>\n",
       "      <td>1634738464</td>\n",
       "      <td>EUR</td>\n",
       "      <td>2021-10-20</td>\n",
       "      <td>121.742900</td>\n",
       "    </tr>\n",
       "    <tr>\n",
       "      <th>AMD</th>\n",
       "      <td>True</td>\n",
       "      <td>1634738464</td>\n",
       "      <td>EUR</td>\n",
       "      <td>2021-10-20</td>\n",
       "      <td>556.109980</td>\n",
       "    </tr>\n",
       "    <tr>\n",
       "      <th>ANG</th>\n",
       "      <td>True</td>\n",
       "      <td>1634738464</td>\n",
       "      <td>EUR</td>\n",
       "      <td>2021-10-20</td>\n",
       "      <td>2.098511</td>\n",
       "    </tr>\n",
       "    <tr>\n",
       "      <th>...</th>\n",
       "      <td>...</td>\n",
       "      <td>...</td>\n",
       "      <td>...</td>\n",
       "      <td>...</td>\n",
       "      <td>...</td>\n",
       "    </tr>\n",
       "    <tr>\n",
       "      <th>YER</th>\n",
       "      <td>True</td>\n",
       "      <td>1634738464</td>\n",
       "      <td>EUR</td>\n",
       "      <td>2021-10-20</td>\n",
       "      <td>291.403796</td>\n",
       "    </tr>\n",
       "    <tr>\n",
       "      <th>ZAR</th>\n",
       "      <td>True</td>\n",
       "      <td>1634738464</td>\n",
       "      <td>EUR</td>\n",
       "      <td>2021-10-20</td>\n",
       "      <td>16.819142</td>\n",
       "    </tr>\n",
       "    <tr>\n",
       "      <th>ZMK</th>\n",
       "      <td>True</td>\n",
       "      <td>1634738464</td>\n",
       "      <td>EUR</td>\n",
       "      <td>2021-10-20</td>\n",
       "      <td>10481.448085</td>\n",
       "    </tr>\n",
       "    <tr>\n",
       "      <th>ZMW</th>\n",
       "      <td>True</td>\n",
       "      <td>1634738464</td>\n",
       "      <td>EUR</td>\n",
       "      <td>2021-10-20</td>\n",
       "      <td>19.893470</td>\n",
       "    </tr>\n",
       "    <tr>\n",
       "      <th>ZWL</th>\n",
       "      <td>True</td>\n",
       "      <td>1634738464</td>\n",
       "      <td>EUR</td>\n",
       "      <td>2021-10-20</td>\n",
       "      <td>374.952437</td>\n",
       "    </tr>\n",
       "  </tbody>\n",
       "</table>\n",
       "<p>168 rows × 5 columns</p>\n",
       "</div>"
      ],
      "text/plain": [
       "     success   timestamp base        date         rates\n",
       "AED     True  1634738464  EUR  2021-10-20      4.276999\n",
       "AFN     True  1634738464  EUR  2021-10-20    104.392984\n",
       "ALL     True  1634738464  EUR  2021-10-20    121.742900\n",
       "AMD     True  1634738464  EUR  2021-10-20    556.109980\n",
       "ANG     True  1634738464  EUR  2021-10-20      2.098511\n",
       "..       ...         ...  ...         ...           ...\n",
       "YER     True  1634738464  EUR  2021-10-20    291.403796\n",
       "ZAR     True  1634738464  EUR  2021-10-20     16.819142\n",
       "ZMK     True  1634738464  EUR  2021-10-20  10481.448085\n",
       "ZMW     True  1634738464  EUR  2021-10-20     19.893470\n",
       "ZWL     True  1634738464  EUR  2021-10-20    374.952437\n",
       "\n",
       "[168 rows x 5 columns]"
      ]
     },
     "execution_count": 56,
     "metadata": {},
     "output_type": "execute_result"
    }
   ],
   "source": [
    "df = pd.DataFrame(data)\n",
    "df.head()"
   ]
  },
  {
   "cell_type": "code",
   "execution_count": 57,
   "metadata": {},
   "outputs": [
    {
     "data": {
      "text/html": [
       "<div>\n",
       "<style scoped>\n",
       "    .dataframe tbody tr th:only-of-type {\n",
       "        vertical-align: middle;\n",
       "    }\n",
       "\n",
       "    .dataframe tbody tr th {\n",
       "        vertical-align: top;\n",
       "    }\n",
       "\n",
       "    .dataframe thead th {\n",
       "        text-align: right;\n",
       "    }\n",
       "</style>\n",
       "<table border=\"1\" class=\"dataframe\">\n",
       "  <thead>\n",
       "    <tr style=\"text-align: right;\">\n",
       "      <th></th>\n",
       "      <th>rates</th>\n",
       "    </tr>\n",
       "  </thead>\n",
       "  <tbody>\n",
       "    <tr>\n",
       "      <th>AED</th>\n",
       "      <td>4.276999</td>\n",
       "    </tr>\n",
       "    <tr>\n",
       "      <th>AFN</th>\n",
       "      <td>104.392984</td>\n",
       "    </tr>\n",
       "    <tr>\n",
       "      <th>ALL</th>\n",
       "      <td>121.742900</td>\n",
       "    </tr>\n",
       "    <tr>\n",
       "      <th>AMD</th>\n",
       "      <td>556.109980</td>\n",
       "    </tr>\n",
       "    <tr>\n",
       "      <th>ANG</th>\n",
       "      <td>2.098511</td>\n",
       "    </tr>\n",
       "    <tr>\n",
       "      <th>...</th>\n",
       "      <td>...</td>\n",
       "    </tr>\n",
       "    <tr>\n",
       "      <th>YER</th>\n",
       "      <td>291.403796</td>\n",
       "    </tr>\n",
       "    <tr>\n",
       "      <th>ZAR</th>\n",
       "      <td>16.819142</td>\n",
       "    </tr>\n",
       "    <tr>\n",
       "      <th>ZMK</th>\n",
       "      <td>10481.448085</td>\n",
       "    </tr>\n",
       "    <tr>\n",
       "      <th>ZMW</th>\n",
       "      <td>19.893470</td>\n",
       "    </tr>\n",
       "    <tr>\n",
       "      <th>ZWL</th>\n",
       "      <td>374.952437</td>\n",
       "    </tr>\n",
       "  </tbody>\n",
       "</table>\n",
       "<p>168 rows × 1 columns</p>\n",
       "</div>"
      ],
      "text/plain": [
       "            rates\n",
       "AED      4.276999\n",
       "AFN    104.392984\n",
       "ALL    121.742900\n",
       "AMD    556.109980\n",
       "ANG      2.098511\n",
       "..            ...\n",
       "YER    291.403796\n",
       "ZAR     16.819142\n",
       "ZMK  10481.448085\n",
       "ZMW     19.893470\n",
       "ZWL    374.952437\n",
       "\n",
       "[168 rows x 1 columns]"
      ]
     },
     "execution_count": 57,
     "metadata": {},
     "output_type": "execute_result"
    }
   ],
   "source": [
    "# Drop unnescessary columns\n",
    "df=df[['rates']]\n",
    "df.head()"
   ]
  },
  {
   "cell_type": "markdown",
   "metadata": {},
   "source": [
    "### Loading the Data\n",
    "\n",
    "The dataframe is saved as a CSV named `exchange_rates.csv`."
   ]
  },
  {
   "cell_type": "code",
   "execution_count": 58,
   "metadata": {},
   "outputs": [],
   "source": [
    "# Save the Dataframe\n",
    "df.to_csv('exchange_rates.csv')"
   ]
  }
 ],
 "metadata": {
  "kernelspec": {
   "display_name": "Python 3 (ipykernel)",
   "language": "python",
   "name": "python3"
  },
  "language_info": {
   "codemirror_mode": {
    "name": "ipython",
    "version": 3
   },
   "file_extension": ".py",
   "mimetype": "text/x-python",
   "name": "python",
   "nbconvert_exporter": "python",
   "pygments_lexer": "ipython3",
   "version": "3.9.7"
  }
 },
 "nbformat": 4,
 "nbformat_minor": 4
}
