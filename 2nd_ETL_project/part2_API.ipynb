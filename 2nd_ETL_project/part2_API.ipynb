{
 "cells": [
  {
   "cell_type": "markdown",
   "metadata": {},
   "source": [
    "<center><h1>Data engineering project</h1></center>"
   ]
  },
  {
   "cell_type": "markdown",
   "metadata": {},
   "source": [
    "# Part 2 - Extract API Data"
   ]
  },
  {
   "cell_type": "markdown",
   "metadata": {},
   "source": [
    "In this part, we'll:\n",
    "*   Collect exchange rate data using an API\n",
    "*   Store the data as a CSV"
   ]
  },
  {
   "cell_type": "markdown",
   "metadata": {},
   "source": [
    "## Imports"
   ]
  },
  {
   "cell_type": "markdown",
   "metadata": {},
   "source": [
    "The cell below will install the mentioned libraries when activated and executed."
   ]
  },
  {
   "cell_type": "code",
   "execution_count": 19,
   "metadata": {},
   "outputs": [],
   "source": [
    "#!pip install pandas\n",
    "#!pip install requests"
   ]
  },
  {
   "cell_type": "code",
   "execution_count": 20,
   "metadata": {},
   "outputs": [],
   "source": [
    "import requests\n",
    "import pandas as pd\n",
    "import json"
   ]
  },
  {
   "cell_type": "markdown",
   "metadata": {},
   "source": [
    "## Extract Data Using an API"
   ]
  },
  {
   "cell_type": "markdown",
   "metadata": {},
   "source": [
    "Using ExchangeRate-API, I will extract currency exchange rate data. Use the below steps to get the access key and to get the data.\n",
    "\n",
    "1.  Open the url : [https://exchangeratesapi.io/](https://exchangeratesapi.io/?utm_medium=Exinfluencer&utm_source=Exinfluencer&utm_content=000026UJ&utm_term=10006555&utm_id=NA-SkillsNetwork-Channel-SkillsNetworkCoursesIBMDeveloperSkillsNetworkPY0221ENSkillsNetwork23455645-2021-01-01) and create a free account.\n",
    "2.  Once the account is created. You will get the Get the Free API key option on the top.\n",
    "\n",
    "3.  Copy the API key and use it in the url bellow.\n"
   ]
  },
  {
   "cell_type": "markdown",
   "metadata": {},
   "source": [
    "### Call the API\n",
    "\n",
    "Using the `requests` library, we call the endpoint given above and save the text."
   ]
  },
  {
   "cell_type": "code",
   "execution_count": 21,
   "metadata": {},
   "outputs": [],
   "source": [
    "with open('ExchangeRateAPI.json') as f:\n",
    "    keys=json.load(f)\n",
    "access_key=keys['API_access_key']"
   ]
  },
  {
   "cell_type": "code",
   "execution_count": 22,
   "metadata": {},
   "outputs": [
    {
     "data": {
      "text/plain": [
       "'{\"success\":true,\"timestamp\":1640572475,\"base\":\"EUR\",\"date\":\"2021-12-27\",\"rates\":{\"AED\":4.15775,\"AFN\":116.887574,\"ALL\":120.575466,\"AMD\":557.93692,\"ANG\":2.041862,\"AOA\":638.761218,\"ARS\":115.853584,\"AUD\":1.563669,\"AWG\":2.037501,\"AZN\":1.927261,\"BAM\":1.955994,\"BBD\":2.287493,\"BDT\":97.110066,\"BGN\":1.956109,\"BHD\":0.426764,\"BIF\":2259.099556,\"BMD\":1.131945,\"BND\":1.536165,\"BOB\":7.822458,\"BRL\":6.420957,\"BSD\":1.132945,\"BTC\":2.2274977e-5,\"BTN\":84.969646,\"BWP\":13.165889,\"BYN\":2.853516,\"BYR\":22186.125748,\"BZD\":2.283633,\"CAD\":1.449728,\"CDF\":2266.154302,\"CHF\":1.040671,\"CLF\":0.035502,\"CLP\":979.607739,\"CNY\":7.20981,\"COP\":4518.159231,\"CRC\":728.09339,\"CUC\":1.131945,\"CUP\":29.996548,\"CVE\":110.274274,\"CZK\":25.023011,\"DJF\":201.68587,\"DKK\":7.435918,\"DOP\":64.656293,\"DZD\":157.16563,\"EGP\":17.781843,\"ERN\":16.979266,\"ETB\":55.969279,\"EUR\":1,\"FJD\":2.398254,\"FKP\":0.853916,\"GBP\":0.844001,\"GEL\":3.475611,\"GGP\":0.853916,\"GHS\":6.995488,\"GIP\":0.853916,\"GMD\":59.483623,\"GNF\":10717.711439,\"GTQ\":8.745835,\"GYD\":237.089938,\"HKD\":8.828165,\"HNL\":27.786564,\"HRK\":7.512155,\"HTG\":113.77962,\"HUF\":369.817989,\"IDR\":16093.996729,\"ILS\":3.568355,\"IMP\":0.853916,\"INR\":84.918997,\"IQD\":1653.319036,\"IRR\":47824.68414,\"ISK\":147.19797,\"JEP\":0.853916,\"JMD\":174.210345,\"JOD\":0.802538,\"JPY\":129.515468,\"KES\":128.124934,\"KGS\":95.976385,\"KHR\":4614.595735,\"KMF\":492.820606,\"KPW\":1018.750584,\"KRW\":1342.238065,\"KWD\":0.342549,\"KYD\":0.944079,\"KZT\":491.041294,\"LAK\":12641.444838,\"LBP\":1713.049995,\"LKR\":229.414386,\"LRD\":162.236038,\"LSL\":17.568005,\"LTL\":3.34234,\"LVL\":0.684702,\"LYD\":5.205868,\"MAD\":10.487582,\"MDL\":20.19439,\"MGA\":4497.716909,\"MKD\":61.620182,\"MMK\":2014.341474,\"MNT\":3235.534763,\"MOP\":9.100565,\"MRO\":404.104239,\"MUR\":49.46818,\"MVR\":17.488834,\"MWK\":918.858859,\"MXN\":23.35135,\"MYR\":4.744551,\"MZN\":72.252171,\"NAD\":17.567883,\"NGN\":465.614402,\"NIO\":40.112031,\"NOK\":10.012819,\"NPR\":135.957439,\"NZD\":1.659075,\"OMR\":0.435846,\"PAB\":1.132895,\"PEN\":4.537482,\"PGK\":3.978798,\"PHP\":56.676432,\"PKR\":202.227139,\"PLN\":4.627788,\"PYG\":7721.990477,\"QAR\":4.12142,\"RON\":4.949656,\"RSD\":117.602279,\"RUB\":83.159146,\"RWF\":1174.870697,\"SAR\":4.251469,\"SBD\":9.165572,\"SCR\":15.056264,\"SDG\":495.228282,\"SEK\":10.319554,\"SGD\":1.535486,\"SHP\":1.559136,\"SLL\":12830.598663,\"SOS\":663.319623,\"SRD\":23.280731,\"STD\":23428.98007,\"SVC\":9.912834,\"SYP\":2844.004124,\"SZL\":17.604558,\"THB\":37.914486,\"TJS\":12.777757,\"TMT\":3.961808,\"TND\":3.251513,\"TOP\":2.578854,\"TRY\":12.46493,\"TTD\":7.702148,\"TWD\":31.3705,\"TZS\":2603.473713,\"UAH\":30.836455,\"UGX\":4010.33725,\"USD\":1.131945,\"UYU\":50.2586,\"UZS\":12233.048741,\"VEF\":242044091911.7681,\"VND\":25830.989263,\"VUV\":128.195796,\"WST\":2.943251,\"XAF\":656.041148,\"XAG\":0.04945,\"XAU\":0.000625,\"XCD\":3.059139,\"XDR\":0.809504,\"XOF\":656.041148,\"XPF\":119.929429,\"YER\":283.268764,\"ZAR\":17.590204,\"ZMK\":10188.866166,\"ZMW\":18.722015,\"ZWL\":364.48589}}'"
      ]
     },
     "execution_count": 22,
     "metadata": {},
     "output_type": "execute_result"
    }
   ],
   "source": [
    "#Notice that the exchange rate will be the euro \"EUR\"\n",
    "url = \"http://api.exchangeratesapi.io/v1/latest?base=EUR&access_key=\" + access_key\n",
    "r=requests.get(url).text\n",
    "r"
   ]
  },
  {
   "cell_type": "code",
   "execution_count": 23,
   "metadata": {},
   "outputs": [],
   "source": [
    "data = json.loads(r)"
   ]
  },
  {
   "cell_type": "markdown",
   "metadata": {},
   "source": [
    "### Save as DataFrame\n",
    "\n",
    "The gathered data will be saved as a `pandas` dataframe with the Currency and `Rate` as their columns."
   ]
  },
  {
   "cell_type": "code",
   "execution_count": 24,
   "metadata": {},
   "outputs": [
    {
     "data": {
      "text/html": [
       "<div>\n",
       "<style scoped>\n",
       "    .dataframe tbody tr th:only-of-type {\n",
       "        vertical-align: middle;\n",
       "    }\n",
       "\n",
       "    .dataframe tbody tr th {\n",
       "        vertical-align: top;\n",
       "    }\n",
       "\n",
       "    .dataframe thead th {\n",
       "        text-align: right;\n",
       "    }\n",
       "</style>\n",
       "<table border=\"1\" class=\"dataframe\">\n",
       "  <thead>\n",
       "    <tr style=\"text-align: right;\">\n",
       "      <th></th>\n",
       "      <th>success</th>\n",
       "      <th>timestamp</th>\n",
       "      <th>base</th>\n",
       "      <th>date</th>\n",
       "      <th>rates</th>\n",
       "    </tr>\n",
       "  </thead>\n",
       "  <tbody>\n",
       "    <tr>\n",
       "      <th>AED</th>\n",
       "      <td>True</td>\n",
       "      <td>1640572475</td>\n",
       "      <td>EUR</td>\n",
       "      <td>2021-12-27</td>\n",
       "      <td>4.157750</td>\n",
       "    </tr>\n",
       "    <tr>\n",
       "      <th>AFN</th>\n",
       "      <td>True</td>\n",
       "      <td>1640572475</td>\n",
       "      <td>EUR</td>\n",
       "      <td>2021-12-27</td>\n",
       "      <td>116.887574</td>\n",
       "    </tr>\n",
       "    <tr>\n",
       "      <th>ALL</th>\n",
       "      <td>True</td>\n",
       "      <td>1640572475</td>\n",
       "      <td>EUR</td>\n",
       "      <td>2021-12-27</td>\n",
       "      <td>120.575466</td>\n",
       "    </tr>\n",
       "    <tr>\n",
       "      <th>AMD</th>\n",
       "      <td>True</td>\n",
       "      <td>1640572475</td>\n",
       "      <td>EUR</td>\n",
       "      <td>2021-12-27</td>\n",
       "      <td>557.936920</td>\n",
       "    </tr>\n",
       "    <tr>\n",
       "      <th>ANG</th>\n",
       "      <td>True</td>\n",
       "      <td>1640572475</td>\n",
       "      <td>EUR</td>\n",
       "      <td>2021-12-27</td>\n",
       "      <td>2.041862</td>\n",
       "    </tr>\n",
       "  </tbody>\n",
       "</table>\n",
       "</div>"
      ],
      "text/plain": [
       "     success   timestamp base        date       rates\n",
       "AED     True  1640572475  EUR  2021-12-27    4.157750\n",
       "AFN     True  1640572475  EUR  2021-12-27  116.887574\n",
       "ALL     True  1640572475  EUR  2021-12-27  120.575466\n",
       "AMD     True  1640572475  EUR  2021-12-27  557.936920\n",
       "ANG     True  1640572475  EUR  2021-12-27    2.041862"
      ]
     },
     "execution_count": 24,
     "metadata": {},
     "output_type": "execute_result"
    }
   ],
   "source": [
    "df = pd.DataFrame(data)\n",
    "df.head()"
   ]
  },
  {
   "cell_type": "code",
   "execution_count": 25,
   "metadata": {},
   "outputs": [
    {
     "data": {
      "text/html": [
       "<div>\n",
       "<style scoped>\n",
       "    .dataframe tbody tr th:only-of-type {\n",
       "        vertical-align: middle;\n",
       "    }\n",
       "\n",
       "    .dataframe tbody tr th {\n",
       "        vertical-align: top;\n",
       "    }\n",
       "\n",
       "    .dataframe thead th {\n",
       "        text-align: right;\n",
       "    }\n",
       "</style>\n",
       "<table border=\"1\" class=\"dataframe\">\n",
       "  <thead>\n",
       "    <tr style=\"text-align: right;\">\n",
       "      <th></th>\n",
       "      <th>rates</th>\n",
       "    </tr>\n",
       "  </thead>\n",
       "  <tbody>\n",
       "    <tr>\n",
       "      <th>AED</th>\n",
       "      <td>4.157750</td>\n",
       "    </tr>\n",
       "    <tr>\n",
       "      <th>AFN</th>\n",
       "      <td>116.887574</td>\n",
       "    </tr>\n",
       "    <tr>\n",
       "      <th>ALL</th>\n",
       "      <td>120.575466</td>\n",
       "    </tr>\n",
       "    <tr>\n",
       "      <th>AMD</th>\n",
       "      <td>557.936920</td>\n",
       "    </tr>\n",
       "    <tr>\n",
       "      <th>ANG</th>\n",
       "      <td>2.041862</td>\n",
       "    </tr>\n",
       "  </tbody>\n",
       "</table>\n",
       "</div>"
      ],
      "text/plain": [
       "          rates\n",
       "AED    4.157750\n",
       "AFN  116.887574\n",
       "ALL  120.575466\n",
       "AMD  557.936920\n",
       "ANG    2.041862"
      ]
     },
     "execution_count": 25,
     "metadata": {},
     "output_type": "execute_result"
    }
   ],
   "source": [
    "# Drop unnescessary columns\n",
    "df=df[['rates']]\n",
    "df.head()"
   ]
  },
  {
   "cell_type": "markdown",
   "metadata": {},
   "source": [
    "### Loading the Data\n",
    "\n",
    "The dataframe is saved as a CSV named `exchange_rates.csv`."
   ]
  },
  {
   "cell_type": "code",
   "execution_count": 26,
   "metadata": {},
   "outputs": [],
   "source": [
    "# Save the Dataframe\n",
    "df.to_csv('exchange_rates.csv')"
   ]
  }
 ],
 "metadata": {
  "kernelspec": {
   "display_name": "Python 3 (ipykernel)",
   "language": "python",
   "name": "python3"
  },
  "language_info": {
   "codemirror_mode": {
    "name": "ipython",
    "version": 3
   },
   "file_extension": ".py",
   "mimetype": "text/x-python",
   "name": "python",
   "nbconvert_exporter": "python",
   "pygments_lexer": "ipython3",
   "version": "3.9.7"
  }
 },
 "nbformat": 4,
 "nbformat_minor": 4
}
